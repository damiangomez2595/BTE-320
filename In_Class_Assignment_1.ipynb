{
  "nbformat": 4,
  "nbformat_minor": 0,
  "metadata": {
    "colab": {
      "provenance": [],
      "authorship_tag": "ABX9TyMNzK6PDTz7p7kaaMa3HcbA",
      "include_colab_link": true
    },
    "kernelspec": {
      "name": "python3",
      "display_name": "Python 3"
    },
    "language_info": {
      "name": "python"
    }
  },
  "cells": [
    {
      "cell_type": "markdown",
      "metadata": {
        "id": "view-in-github",
        "colab_type": "text"
      },
      "source": [
        "<a href=\"https://colab.research.google.com/github/damiangomez2595/BTE-320/blob/main/In_Class_Assignment_1.ipynb\" target=\"_parent\"><img src=\"https://colab.research.google.com/assets/colab-badge.svg\" alt=\"Open In Colab\"/></a>"
      ]
    },
    {
      "cell_type": "code",
      "source": [
        "pi = 3.14\n",
        "radius = float(input(\"Enter the radius of the cylinder: \"))\n",
        "height = float(input(\"Enter the height of the cylinder: \"))\n",
        "surface_area = 2 * pi * radius**2 + 2 * pi * radius * height\n",
        "print(f\"The surface area of the cylinder is: {surface_area} sq. ft\")"
      ],
      "metadata": {
        "colab": {
          "base_uri": "https://localhost:8080/"
        },
        "id": "q0vG5EtFb7cy",
        "outputId": "24b63ced-90f4-4993-b22b-40fbb7c87896"
      },
      "execution_count": null,
      "outputs": [
        {
          "output_type": "stream",
          "name": "stdout",
          "text": [
            "Enter the radius of the cylinder: 5\n",
            "Enter the height of the cylinder: 10\n",
            "The surface area of the cylinder is: 471.0 sq. ft\n"
          ]
        }
      ]
    },
    {
      "cell_type": "code",
      "source": [
        "n1 = float(input('Please provide first number: '))\n",
        "n2 = float(input('Please provide first number: '))\n",
        "s = input('Please provide operator (+, -, *, /, //, **, %): ')\n",
        "if s == \"+\":\n",
        "  print(f'{n1} + {n2} = {n1 + n2}')\n",
        "elif s == \"-\":\n",
        "  print(f'{n1} - {n2} = {n1 - n2}')\n",
        "elif s == \"/\":\n",
        "  print(f'{n1} / {n2} = {n1 / n2}')\n",
        "elif s == \"*\":\n",
        "  print(f'{n1} * {n2} = {n1 * n2}')\n",
        "elif s == \"//\":\n",
        "  print(f'{n1} // {n2} = {n1 // n2}')\n",
        "elif s == \"**\":\n",
        "  print(f'{n1} ** {n2} = {n1 ** n2}')\n",
        "elif s == \"%\":\n",
        "  print(f'{n1} % {n2} = {n1 % n2}')\n",
        "else:\n",
        "  print(\"Invalid operator\")"
      ],
      "metadata": {
        "colab": {
          "base_uri": "https://localhost:8080/"
        },
        "id": "tp5X2rGyeiBd",
        "outputId": "29e94d05-05e0-4653-fa89-4870bf5af0cf"
      },
      "execution_count": null,
      "outputs": [
        {
          "output_type": "stream",
          "name": "stdout",
          "text": [
            "Please provide first number: 3\n",
            "Please provide first number: 5\n",
            "Please provide operator (+, -, *, /, //, **, %): +\n",
            "3.0 + 5.0 = 8.0\n"
          ]
        }
      ]
    },
    {
      "cell_type": "code",
      "source": [
        "for hours in range(1, 9):\n",
        "    fee = 5 + (2.50 * hours)\n",
        "    fee = max(10, min(fee, 20))\n",
        "    print(hours, fee)"
      ],
      "metadata": {
        "colab": {
          "base_uri": "https://localhost:8080/"
        },
        "id": "2Umk2hpNJQwr",
        "outputId": "9436fb3c-cf0e-4933-9787-72c57ec9e1c5"
      },
      "execution_count": 23,
      "outputs": [
        {
          "output_type": "stream",
          "name": "stdout",
          "text": [
            "1 10\n",
            "2 10\n",
            "3 12.5\n",
            "4 15.0\n",
            "5 17.5\n",
            "6 20.0\n",
            "7 20\n",
            "8 20\n"
          ]
        }
      ]
    },
    {
      "cell_type": "code",
      "source": [
        "print (\"Ad $ | Profit\")\n",
        "for adcost in range(0, 201, 25):\n",
        "    additional = 2 * round(adcost ** 0.5)\n",
        "    profit = (20 + additional) * 10 - 200 - adcost\n",
        "    print(adcost, profit)"
      ],
      "metadata": {
        "colab": {
          "base_uri": "https://localhost:8080/"
        },
        "id": "NR1ti88YQLnF",
        "outputId": "92951c6d-5145-44b8-e01e-c0b0d27516b3"
      },
      "execution_count": 38,
      "outputs": [
        {
          "output_type": "stream",
          "name": "stdout",
          "text": [
            "Ad $ | Profit\n",
            "0 0\n",
            "25 75\n",
            "50 90\n",
            "75 105\n",
            "100 100\n",
            "125 95\n",
            "150 90\n",
            "175 85\n",
            "200 80\n"
          ]
        }
      ]
    }
  ]
}