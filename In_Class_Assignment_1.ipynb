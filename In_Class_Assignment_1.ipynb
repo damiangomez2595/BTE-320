{
  "nbformat": 4,
  "nbformat_minor": 0,
  "metadata": {
    "colab": {
      "provenance": [],
      "authorship_tag": "ABX9TyPSr9q002VWWvUZkiqpXhb+",
      "include_colab_link": true
    },
    "kernelspec": {
      "name": "python3",
      "display_name": "Python 3"
    },
    "language_info": {
      "name": "python"
    }
  },
  "cells": [
    {
      "cell_type": "markdown",
      "metadata": {
        "id": "view-in-github",
        "colab_type": "text"
      },
      "source": [
        "<a href=\"https://colab.research.google.com/github/damiangomez2595/BTE-320/blob/main/In_Class_Assignment_1.ipynb\" target=\"_parent\"><img src=\"https://colab.research.google.com/assets/colab-badge.svg\" alt=\"Open In Colab\"/></a>"
      ]
    },
    {
      "cell_type": "code",
      "source": [
        "pi = 3.14\n",
        "radius = float(input(\"Enter the radius of the cylinder: \"))\n",
        "height = float(input(\"Enter the height of the cylinder: \"))\n",
        "surface_area = 2 * pi * radius**2 + 2 * pi * radius * height\n",
        "print(f\"The surface area of the cylinder is: {surface_area} sq. ft\")"
      ],
      "metadata": {
        "colab": {
          "base_uri": "https://localhost:8080/"
        },
        "id": "q0vG5EtFb7cy",
        "outputId": "24b63ced-90f4-4993-b22b-40fbb7c87896"
      },
      "execution_count": null,
      "outputs": [
        {
          "output_type": "stream",
          "name": "stdout",
          "text": [
            "Enter the radius of the cylinder: 5\n",
            "Enter the height of the cylinder: 10\n",
            "The surface area of the cylinder is: 471.0 sq. ft\n"
          ]
        }
      ]
    }
  ]
}