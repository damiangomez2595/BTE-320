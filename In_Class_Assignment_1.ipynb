{
  "nbformat": 4,
  "nbformat_minor": 0,
  "metadata": {
    "colab": {
      "provenance": [],
      "authorship_tag": "ABX9TyMmVg4YVDBmkCQWjtXU8R05",
      "include_colab_link": true
    },
    "kernelspec": {
      "name": "python3",
      "display_name": "Python 3"
    },
    "language_info": {
      "name": "python"
    }
  },
  "cells": [
    {
      "cell_type": "markdown",
      "metadata": {
        "id": "view-in-github",
        "colab_type": "text"
      },
      "source": [
        "<a href=\"https://colab.research.google.com/github/damiangomez2595/BTE-320/blob/main/In_Class_Assignment_1.ipynb\" target=\"_parent\"><img src=\"https://colab.research.google.com/assets/colab-badge.svg\" alt=\"Open In Colab\"/></a>"
      ]
    },
    {
      "cell_type": "code",
      "source": [
        "pi = 3.14\n",
        "radius = float(input(\"Enter the radius of the cylinder: \"))\n",
        "height = float(input(\"Enter the height of the cylinder: \"))\n",
        "surface_area = 2 * pi * radius**2 + 2 * pi * radius * height\n",
        "print(f\"The surface area of the cylinder is: {surface_area} sq. ft\")"
      ],
      "metadata": {
        "colab": {
          "base_uri": "https://localhost:8080/"
        },
        "id": "q0vG5EtFb7cy",
        "outputId": "71e8fe0c-5a11-4932-b600-4b5252731a07"
      },
      "execution_count": 7,
      "outputs": [
        {
          "output_type": "stream",
          "name": "stdout",
          "text": [
            "Enter the radius of the cylinder: 4\n",
            "Enter the height of the cylinder: 5\n",
            "The surface area of the cylinder is: 226.08 sq. ft\n"
          ]
        }
      ]
    },
    {
      "cell_type": "code",
      "source": [
        "n1 = float(input('Please provide first number: '))\n",
        "n2 = float(input('Please provide first number: '))\n",
        "s = input('Please provide operator (+, -, *, /, //, **, %): ')\n",
        "if s == \"+\":\n",
        "  print(f'{n1} + {n2} = {n1 + n2}')\n",
        "elif s == \"-\":\n",
        "  print(f'{n1} - {n2} = {n1 - n2}')\n",
        "elif s == \"/\":\n",
        "  print(f'{n1} / {n2} = {n1 / n2}')\n",
        "elif s == \"*\":\n",
        "  print(f'{n1} * {n2} = {n1 * n2}')\n",
        "elif s == \"//\":\n",
        "  print(f'{n1} // {n2} = {n1 // n2}')\n",
        "elif s == \"**\":\n",
        "  print(f'{n1} ** {n2} = {n1 ** n2}')\n",
        "elif s == \"%\":\n",
        "  print(f'{n1} % {n2} = {n1 % n2}')\n",
        "else:\n",
        "  print(\"Invalid operator\")"
      ],
      "metadata": {
        "colab": {
          "base_uri": "https://localhost:8080/"
        },
        "id": "tp5X2rGyeiBd",
        "outputId": "110bf14a-4a4a-4ffe-e58e-4b1e55c6c8c0"
      },
      "execution_count": 8,
      "outputs": [
        {
          "output_type": "stream",
          "name": "stdout",
          "text": [
            "Please provide first number: 4\n",
            "Please provide first number: 3\n",
            "Please provide operator (+, -, *, /, //, **, %): +\n",
            "4.0 + 3.0 = 7.0\n"
          ]
        }
      ]
    },
    {
      "cell_type": "code",
      "source": [
        "for hours in range(1, 9):\n",
        "    fee = 5 + (2.50 * hours)\n",
        "    fee = max(10, min(fee, 20))\n",
        "    print(hours, fee)"
      ],
      "metadata": {
        "colab": {
          "base_uri": "https://localhost:8080/"
        },
        "id": "2Umk2hpNJQwr",
        "outputId": "cac29c81-009c-4cea-f9d1-54ab2caa7de3"
      },
      "execution_count": 6,
      "outputs": [
        {
          "output_type": "stream",
          "name": "stdout",
          "text": [
            "1 10\n",
            "2 10\n",
            "3 12.5\n",
            "4 15.0\n",
            "5 17.5\n",
            "6 20.0\n",
            "7 20\n",
            "8 20\n"
          ]
        }
      ]
    },
    {
      "cell_type": "code",
      "source": [
        "print (\"Ad $ | Profit\")\n",
        "for adcost in range(0, 201, 25):\n",
        "    additional = 2 * round(adcost ** 0.5)\n",
        "    profit = (20 + additional) * 10 - 200 - adcost\n",
        "    print(adcost, profit)"
      ],
      "metadata": {
        "colab": {
          "base_uri": "https://localhost:8080/"
        },
        "id": "NR1ti88YQLnF",
        "outputId": "ff83d3ed-63b9-42bb-ff17-4f60724ec0da"
      },
      "execution_count": 9,
      "outputs": [
        {
          "output_type": "stream",
          "name": "stdout",
          "text": [
            "Ad $ | Profit\n",
            "0 0\n",
            "25 75\n",
            "50 90\n",
            "75 105\n",
            "100 100\n",
            "125 95\n",
            "150 90\n",
            "175 85\n",
            "200 80\n"
          ]
        }
      ]
    },
    {
      "cell_type": "code",
      "source": [
        "import random\n",
        "play = input(\"Do you want to play a game (yes/no)?\")\n",
        "while play == 'yes':\n",
        "  p1 = input('Player 1 - Choose between rock/paper/scissors: ')\n",
        "  p2 = random.choice(['rock', 'paper', 'scissors'])\n",
        "  print (f'Player chose {p1}; Computer chose {p2}')\n",
        "  if p1 == p2:\n",
        "    print('Draw')\n",
        "  elif (p1 == 'rock' and p2 == 'scissors') or (p1 == 'scissors' and p2 == 'paper') or (p1 == 'paper' and p2 == 'rock'):\n",
        "    print('Player 1 wins!')\n",
        "  else:\n",
        "    print('Player 2 wins!')\n",
        "  play = input(\"Do you want to play a new game (yes/no)?\")\n",
        "print('Good day!')"
      ],
      "metadata": {
        "colab": {
          "base_uri": "https://localhost:8080/"
        },
        "id": "yhxVyXuk_BPs",
        "outputId": "074ff8d6-565e-4a64-a4f4-c77325d8d652"
      },
      "execution_count": null,
      "outputs": [
        {
          "output_type": "stream",
          "name": "stdout",
          "text": [
            "Do you want to play a game (yes/no)?yes\n",
            "Player 1 - Choose between rock/paper/scissors: rock\n",
            "Player chose rock; Computer chose paper\n",
            "Player 2 wins!\n",
            "Do you want to play a new game (yes/no)?yes\n",
            "Player 1 - Choose between rock/paper/scissors: paper\n",
            "Player chose paper; Computer chose scissors\n",
            "Player 2 wins!\n",
            "Do you want to play a new game (yes/no)?no\n",
            "Good day!\n"
          ]
        }
      ]
    },
    {
      "cell_type": "code",
      "source": [
        "lst = []\n",
        "num = float(input(\"Please enter a number: \"))\n",
        "while num != 0.0:\n",
        "  lst.append(num)\n",
        "  num = float(input(\"Please enter a number:\"))\n",
        "lst.sort(reverse=True)\n",
        "print(lst)"
      ],
      "metadata": {
        "colab": {
          "base_uri": "https://localhost:8080/"
        },
        "id": "qkAfAPsddBTi",
        "outputId": "9e263153-cc56-4ff9-a8a4-beb8b28d3cf8"
      },
      "execution_count": 4,
      "outputs": [
        {
          "output_type": "stream",
          "name": "stdout",
          "text": [
            "Please enter a number: 3\n",
            "Please enter a number:4\n",
            "Please enter a number:5\n",
            "Please enter a number:0\n",
            "[5.0, 4.0, 3.0]\n"
          ]
        }
      ]
    },
    {
      "cell_type": "code",
      "source": [
        "months = {}\n",
        "\n",
        "names = [\"Jan\", \"Feb\", \"Mar\", \"Apr\", \"May\", \"Jun\", \"Jul\", \"Aug\", \"Sep\", \"Oct\", \"Nov\", \"Dec\"]\n",
        "numbers = [1,2,3,4,5,6,7,8,9,10,11,12]\n",
        "\n",
        "for idx in range(len(numbers)):\n",
        "  months[numbers[idx]] = names[idx]\n",
        "months"
      ],
      "metadata": {
        "id": "gG2e-XK2etsl",
        "colab": {
          "base_uri": "https://localhost:8080/"
        },
        "outputId": "3bc622ad-4763-4791-cd82-e96abaafdaf2"
      },
      "execution_count": 10,
      "outputs": [
        {
          "output_type": "execute_result",
          "data": {
            "text/plain": [
              "{1: 'Jan',\n",
              " 2: 'Feb',\n",
              " 3: 'Mar',\n",
              " 4: 'Apr',\n",
              " 5: 'May',\n",
              " 6: 'Jun',\n",
              " 7: 'Jul',\n",
              " 8: 'Aug',\n",
              " 9: 'Sep',\n",
              " 10: 'Oct',\n",
              " 11: 'Nov',\n",
              " 12: 'Dec'}"
            ]
          },
          "metadata": {},
          "execution_count": 10
        }
      ]
    },
    {
      "cell_type": "code",
      "source": [
        "counts = {}\n",
        "\n",
        "while len(counts) < 5:\n",
        "  key = input(\"Give a string: \")\n",
        "\n",
        "  if key not in counts:\n",
        "    counts[key] = 1\n",
        "  else:\n",
        "    counts[key] += 1\n",
        "\n",
        "print(counts)"
      ],
      "metadata": {
        "colab": {
          "base_uri": "https://localhost:8080/"
        },
        "id": "kAEV9m9enhpH",
        "outputId": "473c0722-b6e6-48cd-cf67-8e2ce64b9f15"
      },
      "execution_count": 2,
      "outputs": [
        {
          "output_type": "stream",
          "name": "stdout",
          "text": [
            "Give a string: a\n",
            "Give a string: b\n",
            "Give a string: c\n",
            "Give a string: d\n",
            "Give a string: e\n",
            "{'a': 1, 'b': 1, 'c': 1, 'd': 1, 'e': 1}\n"
          ]
        }
      ]
    },
    {
      "cell_type": "code",
      "source": [
        "def calcFee(hours):\n",
        "  fee = 5 + 2.5 * hours\n",
        "  if fee < 10:\n",
        "    fee = 10.0\n",
        "  elif fee > 20:\n",
        "    fee = 20.0\n",
        "  print(f\"Fee: ${fee}\")\n",
        "\n",
        "print(\"Program starts...\")\n",
        "numHours = int(input(\"Enter number of hours: \"))\n",
        "calcFee(numHours)"
      ],
      "metadata": {
        "colab": {
          "base_uri": "https://localhost:8080/"
        },
        "id": "01eESFsyZuTo",
        "outputId": "3a8a710c-0c4f-4ce3-990b-e0893775546f"
      },
      "execution_count": 11,
      "outputs": [
        {
          "output_type": "stream",
          "name": "stdout",
          "text": [
            "Program starts...\n",
            "Enter number of hours: 5\n",
            "Fee: $17.5\n"
          ]
        }
      ]
    },
    {
      "cell_type": "code",
      "source": [
        "def reverse(s):\n",
        "  if len(s) <= 1:\n",
        "    return s\n",
        "  else:\n",
        "    return s[-1] + reverse(s[1:-1]) + s[0]\n",
        "\n",
        "reverse('Hello')"
      ],
      "metadata": {
        "colab": {
          "base_uri": "https://localhost:8080/",
          "height": 35
        },
        "id": "kHZsJitrkwSd",
        "outputId": "f266078d-7163-49cd-ec55-59eb00a5bc2a"
      },
      "execution_count": 14,
      "outputs": [
        {
          "output_type": "execute_result",
          "data": {
            "text/plain": [
              "'olleH'"
            ],
            "application/vnd.google.colaboratory.intrinsic+json": {
              "type": "string"
            }
          },
          "metadata": {},
          "execution_count": 14
        }
      ]
    },
    {
      "cell_type": "code",
      "source": [
        "def calcFee(hours):\n",
        "  fee = 5 + 2.5 * hours\n",
        "  if fee < 10:\n",
        "    fee = 10.0\n",
        "  elif fee > 20:\n",
        "    fee = 20.0\n",
        "  print(f'Fee: {fee}$')\n",
        "\n",
        "def main ():\n",
        "  try:\n",
        "    numHours = int(input('Enter number of hours'))\n",
        "    calcFee(numHours)\n",
        "  except ValueError:\n",
        "    print('Cannot cast to int().')\n",
        "  except:\n",
        "    print('Unknown error...')\n",
        "\n",
        "if __name__ == '__main__':\n",
        "  main()"
      ],
      "metadata": {
        "colab": {
          "base_uri": "https://localhost:8080/"
        },
        "id": "5DM_sQ7hDXVS",
        "outputId": "68994b19-6d8a-452c-e81c-d2ccca6d353a"
      },
      "execution_count": 12,
      "outputs": [
        {
          "output_type": "stream",
          "name": "stdout",
          "text": [
            "Enter number of hours5\n",
            "Fee: 17.5$\n"
          ]
        }
      ]
    },
    {
      "cell_type": "code",
      "source": [
        "def getValues(n):\n",
        "  L = []\n",
        "  for i in range(n):\n",
        "    weight = float(input('Enter weight:'))\n",
        "    L.append(weight)\n",
        "  return (L)\n",
        "\n",
        "def calcAverage(alist):\n",
        "  print(f'The average weight is: {sum(alist[2:]) / len(alist[2:])}')\n",
        "\n",
        "if __name__ == '__main__':\n",
        "  n = int(input('Enter size of list: '))\n",
        "  alist = getValues(n)\n",
        "  calcAverage(alist)"
      ],
      "metadata": {
        "colab": {
          "base_uri": "https://localhost:8080/"
        },
        "id": "HjhqZytzGlcq",
        "outputId": "9861b941-a33a-49bb-f6b4-6e19680db8d4"
      },
      "execution_count": 15,
      "outputs": [
        {
          "output_type": "stream",
          "name": "stdout",
          "text": [
            "Enter size of list: 3\n",
            "Enter weight:2\n",
            "Enter weight:5\n",
            "Enter weight:0\n",
            "The average weight is: 0.0\n"
          ]
        }
      ]
    },
    {
      "cell_type": "code",
      "source": [
        "def f(x,y):\n",
        "  try:\n",
        "    z = x + y\n",
        "    w = x / y\n",
        "    print(z, w)\n",
        "  except ZeroDivisionError:\n",
        "    print('Division by zero not allowed')\n",
        "  except TypeError:\n",
        "    print('Incompatible types')\n",
        "  else:\n",
        "    print('No errors detected')\n",
        "  finally:\n",
        "    print('This will be displayed always')\n",
        "\n",
        "f(2, 0)"
      ],
      "metadata": {
        "colab": {
          "base_uri": "https://localhost:8080/"
        },
        "id": "gqUGgISfJuxw",
        "outputId": "1b774483-bba6-4ced-9403-7b8faaa955be"
      },
      "execution_count": 16,
      "outputs": [
        {
          "output_type": "stream",
          "name": "stdout",
          "text": [
            "Division by zero not allowed\n",
            "This will be displayed always\n"
          ]
        }
      ]
    },
    {
      "cell_type": "code",
      "source": [
        "class Greeting:\n",
        "  def __init__(self, first, last):\n",
        "    self.first = first\n",
        "    self.last = last\n",
        "  def display(self, formal=False):\n",
        "    if formal:\n",
        "      print(f'Hi {self.first} {self.last}')\n",
        "    else:\n",
        "      print(f'Hi {self.first}')\n",
        "\n",
        "  def __str__(self):\n",
        "    return \"{}, {}\".format(self.first, self.last)\n",
        "\n",
        "greeting = Greeting('Donald', 'Becker')\n",
        "greeting.display(formal=True)\n",
        "print(greeting)"
      ],
      "metadata": {
        "colab": {
          "base_uri": "https://localhost:8080/"
        },
        "id": "NSc7MFWOXKRO",
        "outputId": "258feb93-5778-4c28-8fa3-b80d44adfbcc"
      },
      "execution_count": 17,
      "outputs": [
        {
          "output_type": "stream",
          "name": "stdout",
          "text": [
            "Hi Donald Becker\n",
            "Donald, Becker\n"
          ]
        }
      ]
    },
    {
      "cell_type": "code",
      "source": [
        "class Student:\n",
        "  def __init__(self, name, number):\n",
        "    self.name = name\n",
        "    self.number = (number)\n",
        "    self.__courses = []\n",
        "  def enroll (self, course):\n",
        "    if course in self.__courses:\n",
        "      print(f'You have already enrolled in {course}')\n",
        "    else:\n",
        "      self.__courses.append(course)\n",
        "  def get_courses(self):\n",
        "    return self.__courses\n",
        "s1 = Student('James Bond', 101)\n",
        "s2 = Student('Clark Kent', 333)\n",
        "s1.name, s2.name"
      ],
      "metadata": {
        "colab": {
          "base_uri": "https://localhost:8080/"
        },
        "id": "V7xXXeaglUAh",
        "outputId": "94f61669-b6a7-406a-9ea2-598cbb17c0be"
      },
      "execution_count": 19,
      "outputs": [
        {
          "output_type": "execute_result",
          "data": {
            "text/plain": [
              "('James Bond', 'Clark Kent')"
            ]
          },
          "metadata": {},
          "execution_count": 19
        }
      ]
    },
    {
      "cell_type": "code",
      "source": [
        "s1.enroll('BTE320')\n",
        "s1.enroll('BTE422')\n",
        "s1.get_courses()"
      ],
      "metadata": {
        "colab": {
          "base_uri": "https://localhost:8080/"
        },
        "id": "JpBOt743lih0",
        "outputId": "9184234b-5e3f-469d-dab2-dde53766b5ce"
      },
      "execution_count": 20,
      "outputs": [
        {
          "output_type": "execute_result",
          "data": {
            "text/plain": [
              "['BTE320', 'BTE422']"
            ]
          },
          "metadata": {},
          "execution_count": 20
        }
      ]
    },
    {
      "cell_type": "code",
      "source": [
        "import math\n",
        "class Point:\n",
        "  def __init__(self, x, y):\n",
        "    self.x = x\n",
        "    self.y = y\n",
        "  def distance (self, other):\n",
        "    return math.sqrt((self.x - other.x)**2 + (self.y - other.y)**2)"
      ],
      "metadata": {
        "id": "zORP6bablmf3"
      },
      "execution_count": 25,
      "outputs": []
    },
    {
      "cell_type": "code",
      "source": [
        "class Coordinate:\n",
        "  def __init__(self, x, y):\n",
        "    self.x = x\n",
        "    self.y = y\n",
        "\n",
        "  def distance(self, b):\n",
        "    dx = (self.x - b.x) ** 2\n",
        "    dy = (self.y - b.y) ** 2\n",
        "    print(f'The distance is: {(dx + dy) ** 0.5}')\n",
        "\n",
        "p1 = Coordinate(0,0)\n",
        "p2 = Coordinate(3,5)\n",
        "p1.distance(p2)"
      ],
      "metadata": {
        "colab": {
          "base_uri": "https://localhost:8080/"
        },
        "id": "Kaa3jaZ8g2ao",
        "outputId": "bc8805e4-d310-4dc3-e603-f9195d7e6711"
      },
      "execution_count": 18,
      "outputs": [
        {
          "output_type": "stream",
          "name": "stdout",
          "text": [
            "The distance is: 5.830951894845301\n"
          ]
        }
      ]
    },
    {
      "cell_type": "code",
      "source": [
        "class Rectangle:\n",
        "  def __init__(self):\n",
        "    self.c1 = Point(0, 0)\n",
        "    self.c2 = Point(0, 2)\n",
        "    self.c3 = Point(2, 0)\n",
        "    self.c4 = Point(2, 2)\n",
        "  def calculate_width(self):\n",
        "    return self.c1.distance(self.c2)\n",
        "  def calculate_height(self):\n",
        "    return self.c1.distance(self.c3)\n",
        "  def area(self):\n",
        "    return self.calculate_width() * self.calculate_height()\n",
        "square = Rectangle()\n",
        "square.area()"
      ],
      "metadata": {
        "colab": {
          "base_uri": "https://localhost:8080/"
        },
        "id": "XE3LyNFGlzP3",
        "outputId": "9478680a-f9c6-4960-c4a3-d6ec192e79ec"
      },
      "execution_count": 26,
      "outputs": [
        {
          "output_type": "execute_result",
          "data": {
            "text/plain": [
              "4.0"
            ]
          },
          "metadata": {},
          "execution_count": 26
        }
      ]
    }
  ]
}