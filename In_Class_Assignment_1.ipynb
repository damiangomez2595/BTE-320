{
  "nbformat": 4,
  "nbformat_minor": 0,
  "metadata": {
    "colab": {
      "provenance": [],
      "authorship_tag": "ABX9TyNladJBt/wMprWFn2CbxldJ",
      "include_colab_link": true
    },
    "kernelspec": {
      "name": "python3",
      "display_name": "Python 3"
    },
    "language_info": {
      "name": "python"
    }
  },
  "cells": [
    {
      "cell_type": "markdown",
      "metadata": {
        "id": "view-in-github",
        "colab_type": "text"
      },
      "source": [
        "<a href=\"https://colab.research.google.com/github/damiangomez2595/BTE-320/blob/main/In_Class_Assignment_1.ipynb\" target=\"_parent\"><img src=\"https://colab.research.google.com/assets/colab-badge.svg\" alt=\"Open In Colab\"/></a>"
      ]
    },
    {
      "cell_type": "code",
      "source": [
        "pi = 3.14\n",
        "radius = float(input(\"Enter the radius of the cylinder: \"))\n",
        "height = float(input(\"Enter the height of the cylinder: \"))\n",
        "surface_area = 2 * pi * radius**2 + 2 * pi * radius * height\n",
        "print(f\"The surface area of the cylinder is: {surface_area} sq. ft\")"
      ],
      "metadata": {
        "colab": {
          "base_uri": "https://localhost:8080/"
        },
        "id": "q0vG5EtFb7cy",
        "outputId": "24b63ced-90f4-4993-b22b-40fbb7c87896"
      },
      "execution_count": null,
      "outputs": [
        {
          "output_type": "stream",
          "name": "stdout",
          "text": [
            "Enter the radius of the cylinder: 5\n",
            "Enter the height of the cylinder: 10\n",
            "The surface area of the cylinder is: 471.0 sq. ft\n"
          ]
        }
      ]
    },
    {
      "cell_type": "code",
      "source": [
        "n1 = float(input('Please provide first number: '))\n",
        "n2 = float(input('Please provide first number: '))\n",
        "s = input('Please provide operator (+, -, *, /, //, **, %): ')\n",
        "if s == \"+\":\n",
        "  print(f'{n1} + {n2} = {n1 + n2}')\n",
        "elif s == \"-\":\n",
        "  print(f'{n1} - {n2} = {n1 - n2}')\n",
        "elif s == \"/\":\n",
        "  print(f'{n1} / {n2} = {n1 / n2}')\n",
        "elif s == \"*\":\n",
        "  print(f'{n1} * {n2} = {n1 * n2}')\n",
        "elif s == \"//\":\n",
        "  print(f'{n1} // {n2} = {n1 // n2}')\n",
        "elif s == \"**\":\n",
        "  print(f'{n1} ** {n2} = {n1 ** n2}')\n",
        "elif s == \"%\":\n",
        "  print(f'{n1} % {n2} = {n1 % n2}')\n",
        "else:\n",
        "  print(\"Invalid operator\")"
      ],
      "metadata": {
        "colab": {
          "base_uri": "https://localhost:8080/"
        },
        "id": "tp5X2rGyeiBd",
        "outputId": "29e94d05-05e0-4653-fa89-4870bf5af0cf"
      },
      "execution_count": null,
      "outputs": [
        {
          "output_type": "stream",
          "name": "stdout",
          "text": [
            "Please provide first number: 3\n",
            "Please provide first number: 5\n",
            "Please provide operator (+, -, *, /, //, **, %): +\n",
            "3.0 + 5.0 = 8.0\n"
          ]
        }
      ]
    },
    {
      "cell_type": "code",
      "source": [
        "for hours in range(1, 9):\n",
        "    fee = 5 + (2.50 * hours)\n",
        "    fee = max(10, min(fee, 20))\n",
        "    print(hours, fee)"
      ],
      "metadata": {
        "colab": {
          "base_uri": "https://localhost:8080/"
        },
        "id": "2Umk2hpNJQwr",
        "outputId": "9436fb3c-cf0e-4933-9787-72c57ec9e1c5"
      },
      "execution_count": null,
      "outputs": [
        {
          "output_type": "stream",
          "name": "stdout",
          "text": [
            "1 10\n",
            "2 10\n",
            "3 12.5\n",
            "4 15.0\n",
            "5 17.5\n",
            "6 20.0\n",
            "7 20\n",
            "8 20\n"
          ]
        }
      ]
    },
    {
      "cell_type": "code",
      "source": [
        "print (\"Ad $ | Profit\")\n",
        "for adcost in range(0, 201, 25):\n",
        "    additional = 2 * round(adcost ** 0.5)\n",
        "    profit = (20 + additional) * 10 - 200 - adcost\n",
        "    print(adcost, profit)"
      ],
      "metadata": {
        "colab": {
          "base_uri": "https://localhost:8080/"
        },
        "id": "NR1ti88YQLnF",
        "outputId": "92951c6d-5145-44b8-e01e-c0b0d27516b3"
      },
      "execution_count": null,
      "outputs": [
        {
          "output_type": "stream",
          "name": "stdout",
          "text": [
            "Ad $ | Profit\n",
            "0 0\n",
            "25 75\n",
            "50 90\n",
            "75 105\n",
            "100 100\n",
            "125 95\n",
            "150 90\n",
            "175 85\n",
            "200 80\n"
          ]
        }
      ]
    },
    {
      "cell_type": "code",
      "source": [
        "import random\n",
        "play = input(\"Do you want to play a game (yes/no)?\")\n",
        "while play == 'yes':\n",
        "  p1 = input('Player 1 - Choose between rock/paper/scissors: ')\n",
        "  p2 = random.choice(['rock', 'paper', 'scissors'])\n",
        "  print (f'Player chose {p1}; Computer chose {p2}')\n",
        "  if p1 == p2:\n",
        "    print('Draw')\n",
        "  elif (p1 == 'rock' and p2 == 'scissors') or (p1 == 'scissors' and p2 == 'paper') or (p1 == 'paper' and p2 == 'rock'):\n",
        "    print('Player 1 wins!')\n",
        "  else:\n",
        "    print('Player 2 wins!')\n",
        "  play = input(\"Do you want to play a new game (yes/no)?\")\n",
        "print('Good day!')"
      ],
      "metadata": {
        "colab": {
          "base_uri": "https://localhost:8080/"
        },
        "id": "yhxVyXuk_BPs",
        "outputId": "074ff8d6-565e-4a64-a4f4-c77325d8d652",
        "collapsed": true
      },
      "execution_count": 1,
      "outputs": [
        {
          "output_type": "stream",
          "name": "stdout",
          "text": [
            "Do you want to play a game (yes/no)?yes\n",
            "Player 1 - Choose between rock/paper/scissors: rock\n",
            "Player chose rock; Computer chose paper\n",
            "Player 2 wins!\n",
            "Do you want to play a new game (yes/no)?yes\n",
            "Player 1 - Choose between rock/paper/scissors: paper\n",
            "Player chose paper; Computer chose scissors\n",
            "Player 2 wins!\n",
            "Do you want to play a new game (yes/no)?no\n",
            "Good day!\n"
          ]
        }
      ]
    },
    {
      "cell_type": "code",
      "source": [
        "months = {}\n",
        "\n",
        "names = [\"Jan\", \"Feb\", \"Mar\", \"Apr\", \"May\", \"Jun\", \"Jul\", \"Aug\", \"Sep\", \"Oct\", \"Nov\", \"Dec\"]\n",
        "numbers = [1,2,3,4,5,6,7,8,9,10,11,12]\n",
        "\n",
        "for idx in range(len(numbers)):\n",
        "  months[numbers[idx]] = names[idx]\n",
        "months"
      ],
      "metadata": {
        "id": "gG2e-XK2etsl",
        "colab": {
          "base_uri": "https://localhost:8080/"
        },
        "outputId": "5c1bb425-8736-4823-db46-84976fa75cbb"
      },
      "execution_count": null,
      "outputs": [
        {
          "output_type": "execute_result",
          "data": {
            "text/plain": [
              "{1: 'Jan',\n",
              " 2: 'Feb',\n",
              " 3: 'Mar',\n",
              " 4: 'Apr',\n",
              " 5: 'May',\n",
              " 6: 'Jun',\n",
              " 7: 'Jul',\n",
              " 8: 'Aug',\n",
              " 9: 'Sep',\n",
              " 10: 'Oct',\n",
              " 11: 'Nov',\n",
              " 12: 'Dec'}"
            ]
          },
          "metadata": {},
          "execution_count": 7
        }
      ]
    },
    {
      "cell_type": "code",
      "source": [
        "counts = {}\n",
        "\n",
        "while len(counts) < 5:\n",
        "  key = input(\"Give a string: \")\n",
        "\n",
        "  if key not in counts:\n",
        "    counts[key] = 1\n",
        "  else:\n",
        "    counts[key] += 1\n",
        "\n",
        "counts a"
      ],
      "metadata": {
        "colab": {
          "base_uri": "https://localhost:8080/"
        },
        "id": "kAEV9m9enhpH",
        "outputId": "c5dc3f0e-d04f-405e-ce9b-a3b5dff721db"
      },
      "execution_count": null,
      "outputs": [
        {
          "name": "stdout",
          "output_type": "stream",
          "text": [
            "Give a string: a\n",
            "Give a string: a\n",
            "Give a string: a\n",
            "Give a string: b\n",
            "Give a string: c\n",
            "Give a string: d\n",
            "Give a string: e\n"
          ]
        },
        {
          "output_type": "execute_result",
          "data": {
            "text/plain": [
              "{'a': 3, 'b': 1, 'c': 1, 'd': 1, 'e': 1}"
            ]
          },
          "metadata": {},
          "execution_count": 8
        }
      ]
    }
  ]
}